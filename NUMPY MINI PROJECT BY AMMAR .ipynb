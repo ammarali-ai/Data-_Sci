{
  "cells": [
    {
      "cell_type": "code",
      "execution_count": 1,
      "metadata": {
        "id": "QOepuiVEQmVL"
      },
      "outputs": [],
      "source": [
        "#import the required libraries\n",
        "import numpy as np"
      ]
    },
    {
      "cell_type": "markdown",
      "metadata": {
        "id": "XJJVjthYIz6w"
      },
      "source": [
        "# Step 1 : Read the Data!"
      ]
    },
    {
      "cell_type": "code",
      "source": [
        "#Create file\n",
        "\n",
        "filename = \"Census.csv\""
      ],
      "metadata": {
        "id": "1zu0t-Rp-3F4"
      },
      "execution_count": 4,
      "outputs": []
    },
    {
      "cell_type": "code",
      "execution_count": 6,
      "metadata": {
        "id": "7xcB2zo-O0t-",
        "colab": {
          "base_uri": "https://localhost:8080/"
        },
        "outputId": "929b6990-1f1c-42e8-8f67-dd10dbbf8f30"
      },
      "outputs": [
        {
          "output_type": "stream",
          "name": "stdout",
          "text": [
            "[[39. 13.  4. ...  0. 40.  0.]\n",
            " [50. 13.  4. ...  0. 13.  0.]\n",
            " [38.  9.  4. ...  0. 40.  0.]\n",
            " ...\n",
            " [48. 13.  4. ...  0. 58.  1.]\n",
            " [40. 10.  4. ...  0. 40.  0.]\n",
            " [39. 13.  4. ...  0. 50.  1.]]\n"
          ]
        }
      ],
      "source": [
        "census= np.genfromtxt(\"makeSenseOfCensus.csv\" , delimiter=\",\" , skip_header=1)\n",
        "print (census)"
      ]
    },
    {
      "cell_type": "code",
      "source": [
        "from google.colab import drive\n",
        "drive.mount('/content/drive')"
      ],
      "metadata": {
        "colab": {
          "base_uri": "https://localhost:8080/"
        },
        "id": "gzS5Hdy7DY20",
        "outputId": "86d4bab9-e96d-4dc6-acbe-4d2a1bfde878"
      },
      "execution_count": 7,
      "outputs": [
        {
          "output_type": "stream",
          "name": "stdout",
          "text": [
            "Mounted at /content/drive\n"
          ]
        }
      ]
    },
    {
      "cell_type": "markdown",
      "metadata": {
        "id": "OiSJcx6GLcWT"
      },
      "source": [
        "# Loading the data"
      ]
    },
    {
      "cell_type": "markdown",
      "metadata": {
        "id": "VxJZY3U1nsPN"
      },
      "source": [
        "You have studied getfromtext in Numpy Classes, now is the time to put it into action :) Below is the half completed code, you have to substitute values for delimiter and skip_header in it for hte data to be properly read into a Data array. The output of the array has been shared with you guys followed by the code block"
      ]
    },
    {
      "cell_type": "code",
      "execution_count": 8,
      "metadata": {
        "colab": {
          "base_uri": "https://localhost:8080/"
        },
        "id": "Fjx-kQkxQD7q",
        "outputId": "c5c1f15f-ac1a-4815-b7a8-8d20afafa402"
      },
      "outputs": [
        {
          "output_type": "stream",
          "name": "stdout",
          "text": [
            "\n",
            "Data:\n",
            "\n",
            "  [[39. 13.  4. ...  0. 40.  0.]\n",
            " [50. 13.  4. ...  0. 13.  0.]\n",
            " [38.  9.  4. ...  0. 40.  0.]\n",
            " ...\n",
            " [48. 13.  4. ...  0. 58.  1.]\n",
            " [40. 10.  4. ...  0. 40.  0.]\n",
            " [39. 13.  4. ...  0. 50.  1.]]\n"
          ]
        }
      ],
      "source": [
        "data = np.genfromtxt(\"makeSenseOfCensus.csv\", delimiter = \",\" , skip_header = 1)\n",
        "print(\"\\nData:\\n\\n \", data)"
      ]
    },
    {
      "cell_type": "markdown",
      "metadata": {
        "id": "lLoQJxpdOCfA"
      },
      "source": [
        "# Printing the type of data"
      ]
    },
    {
      "cell_type": "code",
      "execution_count": 9,
      "metadata": {
        "colab": {
          "base_uri": "https://localhost:8080/"
        },
        "id": "xkPasCIhQ1qC",
        "outputId": "a12b68ee-a4e5-444b-f60f-5ebd07ac982b"
      },
      "outputs": [
        {
          "output_type": "execute_result",
          "data": {
            "text/plain": [
              "numpy.ndarray"
            ]
          },
          "metadata": {},
          "execution_count": 9
        }
      ],
      "source": [
        "#print the type of data\n",
        "type(census)"
      ]
    },
    {
      "cell_type": "markdown",
      "metadata": {
        "id": "QTSTCc7jVppG"
      },
      "source": [
        "# Step 2 : Append the Data"
      ]
    },
    {
      "cell_type": "markdown",
      "metadata": {
        "id": "-gz1eP4sfRpc"
      },
      "source": [
        "A new record [[50,9,4,1,0,0,40,0]] has been given to you. You are supposed to append this new record into the data using np.concatenate()"
      ]
    },
    {
      "cell_type": "code",
      "execution_count": 16,
      "metadata": {
        "id": "jokdR-EtS1dz",
        "outputId": "97fb655e-2812-4dbb-d918-d9e499ed28aa",
        "colab": {
          "base_uri": "https://localhost:8080/"
        }
      },
      "outputs": [
        {
          "output_type": "execute_result",
          "data": {
            "text/plain": [
              "array([[39., 13.,  4., ...,  0., 40.,  0.],\n",
              "       [50., 13.,  4., ...,  0., 13.,  0.],\n",
              "       [38.,  9.,  4., ...,  0., 40.,  0.],\n",
              "       ...,\n",
              "       [50.,  9.,  4., ...,  0., 40.,  0.],\n",
              "       [60.,  9.,  4., ...,  0., 30.,  0.],\n",
              "       [50.,  9.,  4., ...,  0., 40.,  0.]])"
            ]
          },
          "metadata": {},
          "execution_count": 16
        }
      ],
      "source": [
        "new_record = [[50,9,4,1,0,0,40,0]]\n",
        "\n",
        "np.concatenate((census,new_record),axis=0)"
      ]
    },
    {
      "cell_type": "markdown",
      "metadata": {
        "id": "qVKX1_leVwqh"
      },
      "source": [
        "## Append 'new_record' (given) to 'data' using \"np.concatenate()\""
      ]
    },
    {
      "cell_type": "code",
      "execution_count": 17,
      "metadata": {
        "id": "V38I3c5rTJPQ"
      },
      "outputs": [],
      "source": [
        "new_record = [[60,9,4,1,0,0,30,0]]\n",
        "\n",
        "census=np.concatenate((census,new_record),axis=0)"
      ]
    },
    {
      "cell_type": "code",
      "execution_count": 19,
      "metadata": {
        "colab": {
          "base_uri": "https://localhost:8080/"
        },
        "id": "QOWjaWI3TlP4",
        "outputId": "fbcc2dc6-c66d-4811-9b08-ae982e61aff9"
      },
      "outputs": [
        {
          "output_type": "execute_result",
          "data": {
            "text/plain": [
              "array([[39., 13.,  4., ...,  0., 40.,  0.],\n",
              "       [50., 13.,  4., ...,  0., 13.,  0.],\n",
              "       [38.,  9.,  4., ...,  0., 40.,  0.],\n",
              "       ...,\n",
              "       [50.,  9.,  4., ...,  0., 40.,  0.],\n",
              "       [60.,  9.,  4., ...,  0., 30.,  0.],\n",
              "       [60.,  9.,  4., ...,  0., 30.,  0.]])"
            ]
          },
          "metadata": {},
          "execution_count": 19
        }
      ],
      "source": [
        "census"
      ]
    },
    {
      "cell_type": "markdown",
      "metadata": {
        "id": "i_5WAJWYWHpL"
      },
      "source": [
        "# Step 3 : Check if it's a young country or old country"
      ]
    },
    {
      "cell_type": "markdown",
      "metadata": {
        "id": "_CqLiA9OWQPm"
      },
      "source": [
        " Create a new array called 'age' by taking only age column(age is the column with index 0) of 'census' array."
      ]
    },
    {
      "cell_type": "code",
      "execution_count": 25,
      "metadata": {
        "id": "u-v0CJlJf8XA",
        "outputId": "a2180c04-7dc9-4991-ba64-a3a85d202355",
        "colab": {
          "base_uri": "https://localhost:8080/"
        }
      },
      "outputs": [
        {
          "output_type": "stream",
          "name": "stdout",
          "text": [
            "[39. 50. 38. ... 50. 60. 60.]\n",
            "[13. 13.  9. ...  9.  9.  9.]\n"
          ]
        }
      ],
      "source": [
        "age = census[:,0]\n",
        "age_1 = census [:,1]\n",
        "print (age)\n",
        "print (age_1)"
      ]
    },
    {
      "cell_type": "markdown",
      "metadata": {
        "id": "_IyNXVKqWpPS"
      },
      "source": [
        "Find the max age and store it in a variable called 'max_age'.\n",
        "\n"
      ]
    },
    {
      "cell_type": "code",
      "execution_count": 26,
      "metadata": {
        "id": "tczhOTFif33u",
        "outputId": "27f4651f-379f-47c4-bb6e-91c7934b6881",
        "colab": {
          "base_uri": "https://localhost:8080/"
        }
      },
      "outputs": [
        {
          "output_type": "execute_result",
          "data": {
            "text/plain": [
              "90.0"
            ]
          },
          "metadata": {},
          "execution_count": 26
        }
      ],
      "source": [
        "#print the max_age\n",
        "max_age= age.max()\n",
        "max_age"
      ]
    },
    {
      "cell_type": "markdown",
      "metadata": {
        "id": "ywrTp3KTWu9z"
      },
      "source": [
        "Find the min age and store it in a variable called 'min_age'."
      ]
    },
    {
      "cell_type": "code",
      "execution_count": 27,
      "metadata": {
        "id": "QJ1VfCH7f0RG",
        "outputId": "c0fd1e1d-2617-4dd3-a7dd-a9e819ce0512",
        "colab": {
          "base_uri": "https://localhost:8080/"
        }
      },
      "outputs": [
        {
          "output_type": "execute_result",
          "data": {
            "text/plain": [
              "17.0"
            ]
          },
          "metadata": {},
          "execution_count": 27
        }
      ],
      "source": [
        "#print the min_age\n",
        "min_age = age.min()\n",
        "min_age"
      ]
    },
    {
      "cell_type": "markdown",
      "metadata": {
        "id": "k6TqZMYQd8w1"
      },
      "source": [
        "Find the mean of the age and store it in a variable called 'age_mean'."
      ]
    },
    {
      "cell_type": "code",
      "execution_count": 28,
      "metadata": {
        "colab": {
          "base_uri": "https://localhost:8080/"
        },
        "id": "7dTC5eaIXs__",
        "outputId": "862d741e-144b-4c51-d397-cfc333067cc3"
      },
      "outputs": [
        {
          "output_type": "execute_result",
          "data": {
            "text/plain": [
              "38.10667996011964"
            ]
          },
          "metadata": {},
          "execution_count": 28
        }
      ],
      "source": [
        "#print the age_mean\n",
        "age_mean = age.mean()\n",
        "age_mean"
      ]
    },
    {
      "cell_type": "markdown",
      "metadata": {
        "id": "GEDv3kfSeF9p"
      },
      "source": [
        "Find the standard deviation of the age and store it in a variable called 'age_std'"
      ]
    },
    {
      "cell_type": "code",
      "execution_count": 29,
      "metadata": {
        "colab": {
          "base_uri": "https://localhost:8080/"
        },
        "id": "SF33E4XbX8Yi",
        "outputId": "bfe461d2-0d9a-4198-f680-921990285819"
      },
      "outputs": [
        {
          "output_type": "execute_result",
          "data": {
            "text/plain": [
              "13.364048483474654"
            ]
          },
          "metadata": {},
          "execution_count": 29
        }
      ],
      "source": [
        "#print the age_std\n",
        "age_std = age.std()\n",
        "age_std"
      ]
    },
    {
      "cell_type": "markdown",
      "metadata": {
        "id": "zfJWcybQecKB"
      },
      "source": [
        "# Step 4: Let's check the country's race distribution to identify the minorities"
      ]
    },
    {
      "cell_type": "markdown",
      "metadata": {
        "id": "SrvNIFGvef4r"
      },
      "source": [
        "Create four different arrays by subsetting 'census' array by Race column(Race is the column with index 2) and save them in 'race_0','race_1', 'race_2', 'race_3' and 'race_4' respectively(Meaning: Store the array where 'race'column has value 0 in 'race_0', so on and so forth)"
      ]
    },
    {
      "cell_type": "code",
      "execution_count": 30,
      "metadata": {
        "id": "2iaIx6n6YHPh"
      },
      "outputs": [],
      "source": [
        "race0=census[census[:,2]==0]\n",
        "race1=census[census[:,2]==1]\n",
        "race2=census[census[:,2]==2]\n",
        "race3=census[census[:,2]==3]\n",
        "race4=census[census[:,2]==4]"
      ]
    },
    {
      "cell_type": "code",
      "execution_count": 30,
      "metadata": {
        "id": "OEz-yzfrYxFC"
      },
      "outputs": [],
      "source": []
    },
    {
      "cell_type": "markdown",
      "metadata": {
        "id": "thg4wOEQeo1x"
      },
      "source": [
        "Store the length of the above created arrays in 'len_0', 'len_1','len_2', 'len_3' and 'len_4' respectively"
      ]
    },
    {
      "cell_type": "code",
      "execution_count": 31,
      "metadata": {
        "id": "6Nbz3CBkZHLY",
        "outputId": "8a64c25d-bf96-47a8-d57c-7a42ddc3e985",
        "colab": {
          "base_uri": "https://localhost:8080/"
        }
      },
      "outputs": [
        {
          "output_type": "execute_result",
          "data": {
            "text/plain": [
              "10"
            ]
          },
          "metadata": {},
          "execution_count": 31
        }
      ],
      "source": [
        "#len_0\n",
        "len_0 = len(race0)\n",
        "len_0"
      ]
    },
    {
      "cell_type": "code",
      "execution_count": 32,
      "metadata": {
        "id": "Zm0CnpfHaWQ7",
        "outputId": "44bc6641-7d1a-47eb-dce1-669ce4377c0b",
        "colab": {
          "base_uri": "https://localhost:8080/"
        }
      },
      "outputs": [
        {
          "output_type": "execute_result",
          "data": {
            "text/plain": [
              "27"
            ]
          },
          "metadata": {},
          "execution_count": 32
        }
      ],
      "source": [
        "#len_1\n",
        "len_1 = len(race1)\n",
        "len_1"
      ]
    },
    {
      "cell_type": "code",
      "execution_count": 33,
      "metadata": {
        "id": "BmTApcJTab3j",
        "outputId": "b0f0d353-04b3-4753-f255-877436c2669a",
        "colab": {
          "base_uri": "https://localhost:8080/"
        }
      },
      "outputs": [
        {
          "output_type": "execute_result",
          "data": {
            "text/plain": [
              "110"
            ]
          },
          "metadata": {},
          "execution_count": 33
        }
      ],
      "source": [
        "#len_2\n",
        "len_2 = len(race2)\n",
        "len_2"
      ]
    },
    {
      "cell_type": "code",
      "execution_count": 34,
      "metadata": {
        "id": "O-SEHnv9afoQ",
        "outputId": "0824ac0b-176d-4cb4-c339-fa8c83f38563",
        "colab": {
          "base_uri": "https://localhost:8080/"
        }
      },
      "outputs": [
        {
          "output_type": "execute_result",
          "data": {
            "text/plain": [
              "6"
            ]
          },
          "metadata": {},
          "execution_count": 34
        }
      ],
      "source": [
        "#len_3\n",
        "len_3 = len(race3)\n",
        "len_3"
      ]
    },
    {
      "cell_type": "code",
      "execution_count": 35,
      "metadata": {
        "id": "HksygZJFaogo",
        "outputId": "e270b077-571c-466a-b747-25770ce060df",
        "colab": {
          "base_uri": "https://localhost:8080/"
        }
      },
      "outputs": [
        {
          "output_type": "execute_result",
          "data": {
            "text/plain": [
              "850"
            ]
          },
          "metadata": {},
          "execution_count": 35
        }
      ],
      "source": [
        "#len_4\n",
        "len_4 = len(race4)\n",
        "len_4"
      ]
    },
    {
      "cell_type": "markdown",
      "metadata": {
        "id": "p57jTibJezYj"
      },
      "source": [
        "Find out which is the race with the minimum no. of citizens"
      ]
    },
    {
      "cell_type": "code",
      "execution_count": 36,
      "metadata": {
        "id": "axqxJHRBdMQL",
        "outputId": "9cc6e659-b901-47cf-d3ee-b6ea46266ac7",
        "colab": {
          "base_uri": "https://localhost:8080/"
        }
      },
      "outputs": [
        {
          "output_type": "execute_result",
          "data": {
            "text/plain": [
              "3"
            ]
          },
          "metadata": {},
          "execution_count": 36
        }
      ],
      "source": [
        "dict1={\n",
        "    0: len(race0),\n",
        "    1: len(race1),\n",
        "    2: len(race2),\n",
        "    3: len(race3),\n",
        "    4: len(race4)\n",
        "}\n",
        "minority_race_min = min(dict1, key=dict1.get)\n",
        "minority_race_min"
      ]
    },
    {
      "cell_type": "markdown",
      "metadata": {
        "id": "yJVgGJLgfJcV"
      },
      "source": [
        "Find out which is the race with the minimum no. of citizens"
      ]
    },
    {
      "cell_type": "code",
      "execution_count": 37,
      "metadata": {
        "id": "LnvFjvidgdzb",
        "outputId": "70bae242-4bd1-44da-d5bf-9abae5b62502",
        "colab": {
          "base_uri": "https://localhost:8080/"
        }
      },
      "outputs": [
        {
          "output_type": "execute_result",
          "data": {
            "text/plain": [
              "4"
            ]
          },
          "metadata": {},
          "execution_count": 37
        }
      ],
      "source": [
        "majority_race_min = max(dict1, key=dict1.get)\n",
        "majority_race_min"
      ]
    },
    {
      "cell_type": "markdown",
      "metadata": {
        "id": "OJmzGHoZfSHv"
      },
      "source": [
        "Store the number associated with the minority race in a variable called 'minority_race'(For eg: if \"len(race_5)\" is the minimum, store 5 in 'minority_race' because that is the index of the race having the least no. of citizens )"
      ]
    },
    {
      "cell_type": "code",
      "execution_count": 38,
      "metadata": {
        "id": "xi96yzv9gmar",
        "outputId": "3d7d9baf-416d-450e-bdf3-aee5c33f255e",
        "colab": {
          "base_uri": "https://localhost:8080/"
        }
      },
      "outputs": [
        {
          "output_type": "execute_result",
          "data": {
            "text/plain": [
              "6"
            ]
          },
          "metadata": {},
          "execution_count": 38
        }
      ],
      "source": [
        "dict1[minority_race_min]"
      ]
    },
    {
      "cell_type": "markdown",
      "metadata": {
        "id": "jrg7qCPZhwnu"
      },
      "source": [
        "Store the number associated with the minority race in a variable called 'minority_race'(For eg: if \"len(race_5)\" is the minimum, store 5 in 'minority_race' because that is the index of the race having the least no. of citizens )"
      ]
    },
    {
      "cell_type": "code",
      "execution_count": 39,
      "metadata": {
        "id": "A3IPB6qMgocF",
        "outputId": "7164fdb4-b33e-42ab-9d28-7eb3e28b53ac",
        "colab": {
          "base_uri": "https://localhost:8080/"
        }
      },
      "outputs": [
        {
          "output_type": "execute_result",
          "data": {
            "text/plain": [
              "850"
            ]
          },
          "metadata": {},
          "execution_count": 39
        }
      ],
      "source": [
        "dict1[majority_race_min]"
      ]
    },
    {
      "cell_type": "markdown",
      "metadata": {
        "id": "E1Rwgqxf9F9V"
      },
      "source": [
        "# Step 5: As per govt. records citizens above 60 should not work more than 25 hours a week. Let us check if the policy is in place"
      ]
    },
    {
      "cell_type": "markdown",
      "metadata": {
        "id": "XT4Jy_Wn9Vww"
      },
      "source": [
        "a.Create a new subset array called 'senior_citizens' by filtering 'census' according to age>60 (age is the column with index 0)"
      ]
    },
    {
      "cell_type": "markdown",
      "metadata": {
        "id": "6AEHuxcS-uGh"
      },
      "source": [
        "[Row,Columns]  :"
      ]
    },
    {
      "cell_type": "markdown",
      "source": [],
      "metadata": {
        "id": "VIHzipp4FlAE"
      }
    },
    {
      "cell_type": "code",
      "execution_count": 41,
      "metadata": {
        "colab": {
          "base_uri": "https://localhost:8080/"
        },
        "id": "oX6E5VZv9Z4j",
        "outputId": "7a8f2828-9f91-4d9c-cd0c-cacfdd19263f"
      },
      "outputs": [
        {
          "output_type": "stream",
          "name": "stdout",
          "text": [
            "[[   79    10     4     1     0     0    20     0]\n",
            " [   67     6     4     1     0     0     2     0]\n",
            " [   76    14     4     1     0     0    40     1]\n",
            " [   61     9     4     1     0     0    40     0]\n",
            " [   70    10     4     1     0     0    40     0]\n",
            " [   64     7     4     1     0  2179    40     0]\n",
            " [   71    10     2     1     0  1816     2     0]\n",
            " [   68     2     4     0     0     0    20     0]\n",
            " [   66    11     4     0     0     0    20     0]\n",
            " [   64     2     4     1     0     0    40     0]\n",
            " [   90     9     2     1     0  2206    40     0]\n",
            " [   66     9     4     1  1409     0    50     0]\n",
            " [   75    11     4     0     0     0    20     0]\n",
            " [   65     9     4     0     0     0    40     0]\n",
            " [   64     9     4     1     0     0    40     1]\n",
            " [   61     9     4     1     0     0    40     1]\n",
            " [   65     9     4     1     0     0    16     0]\n",
            " [   77    10     4     1     0     0    40     0]\n",
            " [   62     9     4     0     0     0    24     0]\n",
            " [   76    14     4     1     0     0    10     0]\n",
            " [   63     9     4     1     0     0    45     0]\n",
            " [   66     9     4     1  2050     0    55     0]\n",
            " [   67     7     4     1     0     0     8     0]\n",
            " [   65     7     3     1     0     0    40     0]\n",
            " [   62    14     4     1     0     0    40     1]\n",
            " [   63     9     4     1     0     0    40     1]\n",
            " [   80     9     4     1     0     0    24     0]\n",
            " [   67    11     4     0     0     0    24     0]\n",
            " [   63     2     4     1     0     0    35     0]\n",
            " [   72     9     4     1     0     0    20     0]\n",
            " [   62     9     4     1     0     0    40     0]\n",
            " [   74    10     4     0     0     0     9     0]\n",
            " [   67    15     4     1 20051     0    48     1]\n",
            " [   72     7     4     0     0     0    40     0]\n",
            " [   69     7     4     0     0     0    40     0]\n",
            " [   65    10     4     1     0     0    30     1]\n",
            " [   65     5     2     0     0     0    24     0]\n",
            " [   71     9     4     1     0     0    15     0]\n",
            " [   70     5     4     0  1111     0    15     0]\n",
            " [   66     4     4     1     0     0     4     0]\n",
            " [   65     7     4     1  9386     0    59     1]\n",
            " [   61     9     4     1     0  2352    50     0]\n",
            " [   61     9     4     1     0     0    40     0]\n",
            " [   68     7     4     1     0     0    20     0]\n",
            " [   64    13     4     1     0     0    40     1]\n",
            " [   64     9     4     1     0     0    45     0]\n",
            " [   62     9     4     0     0     0    40     0]\n",
            " [   73     9     4     1     0     0    40     0]\n",
            " [   72     7     4     0     0     0    24     0]\n",
            " [   63     9     4     1     0     0     6     0]\n",
            " [   62    13     4     0     0     0    48     0]\n",
            " [   61    14     4     0     0     0    40     1]\n",
            " [   71    14     4     1 10605     0    40     1]\n",
            " [   63    10     4     1     0     0    15     0]\n",
            " [   63     4     4     1     0     0    55     0]\n",
            " [   67     9     1     1     0     0    40     1]\n",
            " [   81     9     4     1     0     0    30     0]\n",
            " [   64     9     4     1     0     0     5     0]\n",
            " [   67    13     4     1     0  2392    40     1]\n",
            " [   78     9     2     0  2964     0    40     0]\n",
            " [   63    11     4     0     0     0    20     0]]\n"
          ]
        }
      ],
      "source": [
        "senior_citizens = census[census[:,0]>60]\n",
        "senior_citizens=senior_citizens.astype(int)\n",
        "print (senior_citizens)"
      ]
    },
    {
      "cell_type": "markdown",
      "metadata": {
        "id": "mDbsg8N0_K8b"
      },
      "source": [
        "b.Add all the working hours(working hours is the column with index 6) of 'senior_citizens' and store it in a variable called 'working_hours_sum'"
      ]
    },
    {
      "cell_type": "code",
      "execution_count": 44,
      "metadata": {
        "id": "fYZTR7EMgupn",
        "outputId": "edd11c09-046e-4b39-bac8-638680bb352a",
        "colab": {
          "base_uri": "https://localhost:8080/"
        }
      },
      "outputs": [
        {
          "output_type": "stream",
          "name": "stdout",
          "text": [
            "1917\n"
          ]
        }
      ],
      "source": [
        "working_hours_sum = np.sum(senior_citizens[:,6])\n",
        "print (working_hours_sum)"
      ]
    },
    {
      "cell_type": "markdown",
      "metadata": {
        "id": "l4h6_8DfBD9x"
      },
      "source": [
        "c.Find the length of 'senior_citizens' and store it in a variable called 'senior_citizens_len'"
      ]
    },
    {
      "cell_type": "code",
      "execution_count": 47,
      "metadata": {
        "id": "pPExiV83gwaC",
        "outputId": "02330af8-a2ac-4ca1-f385-508e67101dcc",
        "colab": {
          "base_uri": "https://localhost:8080/"
        }
      },
      "outputs": [
        {
          "output_type": "stream",
          "name": "stdout",
          "text": [
            "61\n"
          ]
        }
      ],
      "source": [
        "senior_citizens_len = len(senior_citizens)\n",
        "print (senior_citizens_len)"
      ]
    },
    {
      "cell_type": "markdown",
      "metadata": {
        "id": "-6mWgLiXBgAW"
      },
      "source": [
        "d. Finally find the average working hours of the senior citizens by dividing 'working_hours_sum' by 'senior_citizens_len' and store it in a variable called 'avg_working hours'."
      ]
    },
    {
      "cell_type": "code",
      "execution_count": 48,
      "metadata": {
        "id": "AOwajHabgy29",
        "outputId": "7c4838f9-f2fc-4689-dd2c-85c8104538af",
        "colab": {
          "base_uri": "https://localhost:8080/"
        }
      },
      "outputs": [
        {
          "output_type": "stream",
          "name": "stdout",
          "text": [
            "31.42622950819672\n"
          ]
        }
      ],
      "source": [
        "avg_working_hours = working_hours_sum/senior_citizens_len\n",
        "print (avg_working_hours)"
      ]
    },
    {
      "cell_type": "markdown",
      "metadata": {
        "id": "VS382pv_CY1Q"
      },
      "source": [
        "e. Print 'avg_working_hours' and see if the govt. policy is followed."
      ]
    },
    {
      "cell_type": "code",
      "execution_count": 49,
      "metadata": {
        "id": "NatAJ4JBgzr4",
        "outputId": "b7051674-b72f-4a74-f8d7-51e46e1b329f",
        "colab": {
          "base_uri": "https://localhost:8080/"
        }
      },
      "outputs": [
        {
          "output_type": "stream",
          "name": "stdout",
          "text": [
            "Govt Policy is not followed!\n"
          ]
        }
      ],
      "source": [
        "if avg_working_hours<25:\n",
        "    print(\"Govt Policy is followed!\")\n",
        "else:\n",
        "    print(\"Govt Policy is not followed!\")"
      ]
    },
    {
      "cell_type": "markdown",
      "metadata": {
        "id": "KRGhpDBKEIa-"
      },
      "source": [
        "# Step 6: Let's check that higher educated people have better pay in general."
      ]
    },
    {
      "cell_type": "markdown",
      "metadata": {
        "id": "-5rc9FarELwP"
      },
      "source": [
        "Create two new subset arrays called 'high' and 'low' by filtering 'census' according to education-num>10 and education-num<=10 (education-num is the column with index 1) respectively.\n",
        "\n"
      ]
    },
    {
      "cell_type": "code",
      "execution_count": 50,
      "metadata": {
        "id": "GVA3Dgp5g2Ui",
        "outputId": "d14cb408-f95a-4a3c-c021-22bf99744aec",
        "colab": {
          "base_uri": "https://localhost:8080/"
        }
      },
      "outputs": [
        {
          "output_type": "execute_result",
          "data": {
            "text/plain": [
              "array([[38.,  9.,  4., ...,  0., 40.,  0.],\n",
              "       [53.,  7.,  2., ...,  0., 40.,  0.],\n",
              "       [49.,  5.,  2., ...,  0., 16.,  0.],\n",
              "       ...,\n",
              "       [50.,  9.,  4., ...,  0., 40.,  0.],\n",
              "       [60.,  9.,  4., ...,  0., 30.,  0.],\n",
              "       [60.,  9.,  4., ...,  0., 30.,  0.]])"
            ]
          },
          "metadata": {},
          "execution_count": 50
        }
      ],
      "source": [
        "high = census[census[:,1]>10]\n",
        "low =  census[census[:,1]<10]\n",
        "low"
      ]
    },
    {
      "cell_type": "markdown",
      "metadata": {
        "id": "I4MwXFEbFEjV"
      },
      "source": [
        "Find the mean of income column(income is the column with index 7) of 'high' array and store it in 'avg_pay_high'. Do the same for 'low' array and store it's mean in 'avg_pay_low'."
      ]
    },
    {
      "cell_type": "code",
      "execution_count": 51,
      "metadata": {
        "colab": {
          "base_uri": "https://localhost:8080/"
        },
        "id": "aaHfrQd1FItV",
        "outputId": "f8facd8e-f3bb-4e19-ff63-0eba31c54e05"
      },
      "outputs": [
        {
          "output_type": "execute_result",
          "data": {
            "text/plain": [
              "0.42813455657492355"
            ]
          },
          "metadata": {},
          "execution_count": 51
        }
      ],
      "source": [
        "high[:,7].mean()"
      ]
    },
    {
      "cell_type": "code",
      "execution_count": 52,
      "metadata": {
        "colab": {
          "base_uri": "https://localhost:8080/"
        },
        "id": "W4pJ8mhvHjlL",
        "outputId": "698d4370-1f3e-41ab-9b06-2594d7715a41"
      },
      "outputs": [
        {
          "output_type": "execute_result",
          "data": {
            "text/plain": [
              "0.12638580931263857"
            ]
          },
          "metadata": {},
          "execution_count": 52
        }
      ],
      "source": [
        "low[:,7].mean()"
      ]
    },
    {
      "cell_type": "code",
      "execution_count": 52,
      "metadata": {
        "id": "KFJ8LGD3x85I"
      },
      "outputs": [],
      "source": []
    }
  ],
  "metadata": {
    "colab": {
      "provenance": []
    },
    "kernelspec": {
      "display_name": "Python 3",
      "language": "python",
      "name": "python3"
    },
    "language_info": {
      "codemirror_mode": {
        "name": "ipython",
        "version": 3
      },
      "file_extension": ".py",
      "mimetype": "text/x-python",
      "name": "python",
      "nbconvert_exporter": "python",
      "pygments_lexer": "ipython3",
      "version": "3.8.8"
    }
  },
  "nbformat": 4,
  "nbformat_minor": 0
}